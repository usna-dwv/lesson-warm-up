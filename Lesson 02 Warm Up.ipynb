{
 "cells": [
  {
   "cell_type": "markdown",
   "metadata": {
    "editable": true,
    "slideshow": {
     "slide_type": ""
    },
    "tags": []
   },
   "source": [
    "**SA433 &#x25aa; Data Wrangling and Visualization &#x25aa; Fall 2024**"
   ]
  },
  {
   "cell_type": "markdown",
   "metadata": {
    "editable": true,
    "slideshow": {
     "slide_type": ""
    },
    "tags": []
   },
   "source": [
    "# Lesson 2. Warm Up"
   ]
  },
  {
   "cell_type": "markdown",
   "metadata": {},
   "source": [
    "## In this lesson..."
   ]
  },
  {
   "cell_type": "markdown",
   "metadata": {},
   "source": [
    "- A very brief introduction to Pandas\n",
    "\n",
    "\n",
    "- Method chaining\n",
    "\n",
    "\n",
    "- Formatting Python code: line continuation"
   ]
  },
  {
   "cell_type": "markdown",
   "metadata": {},
   "source": [
    "<hr style=\"border-top: 2px solid gray; margin-top: 1px; margin-bottom: 1px\"></hr>"
   ]
  },
  {
   "cell_type": "markdown",
   "metadata": {},
   "source": [
    "## A very brief introduction to Pandas 🐼"
   ]
  },
  {
   "cell_type": "markdown",
   "metadata": {
    "editable": true,
    "slideshow": {
     "slide_type": ""
    },
    "tags": []
   },
   "source": [
    "- In the same folder as this notebook, there is a file `data/gapminder.csv` containing health and population data for a number of countries between 1955 and 2005\n",
    "    - `data/gapminder.csv` = `gapminder.csv` in the folder `data`\n",
    "    - This data was collected by [Gapminder](https://www.gapminder.org/)"
   ]
  },
  {
   "cell_type": "markdown",
   "metadata": {
    "editable": true,
    "slideshow": {
     "slide_type": ""
    },
    "tags": []
   },
   "source": [
    "- CSV stands for **comma-separated values**\n",
    "\n",
    "\n",
    "- CSV files are a common way to store tabular data\n",
    "\n",
    "\n",
    "- Let's see what the Gapminder data looks like, using JupyterLab's file viewer..."
   ]
  },
  {
   "cell_type": "markdown",
   "metadata": {
    "editable": true,
    "slideshow": {
     "slide_type": ""
    },
    "tags": []
   },
   "source": [
    "- How can we use this data in Python?\n",
    "\n",
    "\n",
    "- [__Pandas__](https://pandas.pydata.org/) is a Python package for data analysis and manipulation \n",
    "    - [Here is the Pandas documentation](https://pandas.pydata.org/docs/)"
   ]
  },
  {
   "cell_type": "markdown",
   "metadata": {
    "editable": true,
    "slideshow": {
     "slide_type": ""
    },
    "tags": []
   },
   "source": [
    "- We will spend a significant portion of this course getting fluent in Pandas\n",
    "\n",
    "\n",
    "- For now, we just need a few basics so that we can start visualizing data in Python"
   ]
  },
  {
   "cell_type": "markdown",
   "metadata": {
    "editable": true,
    "slideshow": {
     "slide_type": ""
    },
    "tags": []
   },
   "source": [
    "- First, let's import Pandas as `pd`:"
   ]
  },
  {
   "cell_type": "code",
   "execution_count": 1,
   "metadata": {
    "editable": true,
    "slideshow": {
     "slide_type": ""
    },
    "tags": []
   },
   "outputs": [],
   "source": [
    "import pandas as pd"
   ]
  },
  {
   "cell_type": "markdown",
   "metadata": {
    "editable": true,
    "slideshow": {
     "slide_type": ""
    },
    "tags": []
   },
   "source": [
    "## The DataFrame object"
   ]
  },
  {
   "cell_type": "markdown",
   "metadata": {
    "editable": true,
    "slideshow": {
     "slide_type": ""
    },
    "tags": []
   },
   "source": [
    "- A Pandas __DataFrame__ is a two-dimensional table, with rows and columns\n",
    "\n",
    "\n",
    "- Sometimes we refer to the columns as _variables_ and the rows as *observations*, since tabular data is commonly set up this way\n",
    "\n",
    "\n",
    "- We can use the Pandas `read_csv()` function to read the Gapminder data `data/gapminder.csv` into a DataFrame called `df`, like this:"
   ]
  },
  {
   "cell_type": "code",
   "execution_count": 2,
   "metadata": {
    "editable": true,
    "slideshow": {
     "slide_type": ""
    },
    "tags": []
   },
   "outputs": [],
   "source": [
    "df = pd.read_csv('data/gapminder.csv')"
   ]
  },
  {
   "cell_type": "markdown",
   "metadata": {
    "editable": true,
    "slideshow": {
     "slide_type": ""
    },
    "tags": []
   },
   "source": [
    "- By default, `read_csv()` assumes the first row of the CSV file contains the names of each column"
   ]
  },
  {
   "cell_type": "markdown",
   "metadata": {
    "editable": true,
    "slideshow": {
     "slide_type": ""
    },
    "tags": []
   },
   "source": [
    "- It's a good habit to take a quick look at the DataFrame that `read_csv()` creates, just in case something went wrong\n",
    "\n",
    "\n",
    "- To view the first 5 rows of a DataFrame, we can use the `.head()` method:"
   ]
  },
  {
   "cell_type": "code",
   "execution_count": null,
   "metadata": {
    "editable": true,
    "slideshow": {
     "slide_type": ""
    },
    "tags": []
   },
   "outputs": [],
   "source": []
  },
  {
   "cell_type": "code",
   "execution_count": 3,
   "metadata": {
    "editable": true,
    "slideshow": {
     "slide_type": ""
    },
    "tags": [
     "solution"
    ]
   },
   "outputs": [
    {
     "data": {
      "text/html": [
       "<div>\n",
       "<style scoped>\n",
       "    .dataframe tbody tr th:only-of-type {\n",
       "        vertical-align: middle;\n",
       "    }\n",
       "\n",
       "    .dataframe tbody tr th {\n",
       "        vertical-align: top;\n",
       "    }\n",
       "\n",
       "    .dataframe thead th {\n",
       "        text-align: right;\n",
       "    }\n",
       "</style>\n",
       "<table border=\"1\" class=\"dataframe\">\n",
       "  <thead>\n",
       "    <tr style=\"text-align: right;\">\n",
       "      <th></th>\n",
       "      <th>year</th>\n",
       "      <th>country</th>\n",
       "      <th>cluster</th>\n",
       "      <th>pop</th>\n",
       "      <th>life_expect</th>\n",
       "      <th>fertility</th>\n",
       "    </tr>\n",
       "  </thead>\n",
       "  <tbody>\n",
       "    <tr>\n",
       "      <th>0</th>\n",
       "      <td>1955</td>\n",
       "      <td>Afghanistan</td>\n",
       "      <td>South Asia</td>\n",
       "      <td>8891209</td>\n",
       "      <td>30.332</td>\n",
       "      <td>7.7</td>\n",
       "    </tr>\n",
       "    <tr>\n",
       "      <th>1</th>\n",
       "      <td>1960</td>\n",
       "      <td>Afghanistan</td>\n",
       "      <td>South Asia</td>\n",
       "      <td>9829450</td>\n",
       "      <td>31.997</td>\n",
       "      <td>7.7</td>\n",
       "    </tr>\n",
       "    <tr>\n",
       "      <th>2</th>\n",
       "      <td>1965</td>\n",
       "      <td>Afghanistan</td>\n",
       "      <td>South Asia</td>\n",
       "      <td>10997885</td>\n",
       "      <td>34.020</td>\n",
       "      <td>7.7</td>\n",
       "    </tr>\n",
       "    <tr>\n",
       "      <th>3</th>\n",
       "      <td>1970</td>\n",
       "      <td>Afghanistan</td>\n",
       "      <td>South Asia</td>\n",
       "      <td>12430623</td>\n",
       "      <td>36.088</td>\n",
       "      <td>7.7</td>\n",
       "    </tr>\n",
       "    <tr>\n",
       "      <th>4</th>\n",
       "      <td>1975</td>\n",
       "      <td>Afghanistan</td>\n",
       "      <td>South Asia</td>\n",
       "      <td>14132019</td>\n",
       "      <td>38.438</td>\n",
       "      <td>7.7</td>\n",
       "    </tr>\n",
       "  </tbody>\n",
       "</table>\n",
       "</div>"
      ],
      "text/plain": [
       "   year      country     cluster       pop  life_expect  fertility\n",
       "0  1955  Afghanistan  South Asia   8891209       30.332        7.7\n",
       "1  1960  Afghanistan  South Asia   9829450       31.997        7.7\n",
       "2  1965  Afghanistan  South Asia  10997885       34.020        7.7\n",
       "3  1970  Afghanistan  South Asia  12430623       36.088        7.7\n",
       "4  1975  Afghanistan  South Asia  14132019       38.438        7.7"
      ]
     },
     "execution_count": 3,
     "metadata": {},
     "output_type": "execute_result"
    }
   ],
   "source": [
    "# Solution\n",
    "df.head()"
   ]
  },
  {
   "cell_type": "markdown",
   "metadata": {
    "colab_type": "text",
    "editable": true,
    "id": "ZpJ2OTZbY3Kf",
    "slideshow": {
     "slide_type": ""
    },
    "tags": []
   },
   "source": [
    "- Each row of this DataFrame contains the following data for each `country` and `year`:\n",
    "    - region of the world (`cluster`)\n",
    "    - total population (`pop`)\n",
    "    - average life expectancy in years (`life_expect`)\n",
    "    - number of children per woman (`fertility`)"
   ]
  },
  {
   "cell_type": "markdown",
   "metadata": {
    "colab_type": "text",
    "editable": true,
    "id": "ZpJ2OTZbY3Kf",
    "slideshow": {
     "slide_type": ""
    },
    "tags": []
   },
   "source": [
    "- By default, Pandas assigns a **label** to each row/observation: these labels are called the **index**\n",
    "    - Above, you can see the labels all the way on the left\n",
    "    - Note: the index does *not* count as a column/variable of the DataFrame\n",
    "    - We'll come back to this later in the semester"
   ]
  },
  {
   "cell_type": "markdown",
   "metadata": {
    "editable": true,
    "slideshow": {
     "slide_type": ""
    },
    "tags": []
   },
   "source": [
    "- The `.shape` attribute of a DataFrame contains the number of rows and columns in the DataFrame:"
   ]
  },
  {
   "cell_type": "code",
   "execution_count": null,
   "metadata": {
    "editable": true,
    "slideshow": {
     "slide_type": ""
    },
    "tags": []
   },
   "outputs": [],
   "source": []
  },
  {
   "cell_type": "code",
   "execution_count": 4,
   "metadata": {
    "editable": true,
    "slideshow": {
     "slide_type": ""
    },
    "tags": [
     "solution"
    ]
   },
   "outputs": [
    {
     "data": {
      "text/plain": [
       "(693, 6)"
      ]
     },
     "execution_count": 4,
     "metadata": {},
     "output_type": "execute_result"
    }
   ],
   "source": [
    "# Solution\n",
    "df.shape"
   ]
  },
  {
   "cell_type": "markdown",
   "metadata": {
    "editable": true,
    "slideshow": {
     "slide_type": ""
    },
    "tags": []
   },
   "source": [
    "- The `.info()` method of a DataFrame prints some useful information about a DataFrame, including the type of values in each column:"
   ]
  },
  {
   "cell_type": "code",
   "execution_count": null,
   "metadata": {
    "editable": true,
    "slideshow": {
     "slide_type": ""
    },
    "tags": []
   },
   "outputs": [],
   "source": []
  },
  {
   "cell_type": "code",
   "execution_count": 5,
   "metadata": {
    "editable": true,
    "slideshow": {
     "slide_type": ""
    },
    "tags": [
     "solution"
    ]
   },
   "outputs": [
    {
     "name": "stdout",
     "output_type": "stream",
     "text": [
      "<class 'pandas.core.frame.DataFrame'>\n",
      "RangeIndex: 693 entries, 0 to 692\n",
      "Data columns (total 6 columns):\n",
      " #   Column       Non-Null Count  Dtype  \n",
      "---  ------       --------------  -----  \n",
      " 0   year         693 non-null    int64  \n",
      " 1   country      693 non-null    object \n",
      " 2   cluster      693 non-null    object \n",
      " 3   pop          693 non-null    int64  \n",
      " 4   life_expect  693 non-null    float64\n",
      " 5   fertility    693 non-null    float64\n",
      "dtypes: float64(2), int64(2), object(2)\n",
      "memory usage: 32.6+ KB\n"
     ]
    }
   ],
   "source": [
    "# Solution\n",
    "df.info()"
   ]
  },
  {
   "cell_type": "markdown",
   "metadata": {
    "editable": true,
    "slideshow": {
     "slide_type": ""
    },
    "tags": []
   },
   "source": [
    "* The `.describe()` method of a DataFrame outputs summary statistics for the columns with numeric data:"
   ]
  },
  {
   "cell_type": "code",
   "execution_count": null,
   "metadata": {
    "editable": true,
    "slideshow": {
     "slide_type": ""
    },
    "tags": []
   },
   "outputs": [],
   "source": []
  },
  {
   "cell_type": "code",
   "execution_count": 6,
   "metadata": {
    "editable": true,
    "slideshow": {
     "slide_type": ""
    },
    "tags": [
     "solution"
    ]
   },
   "outputs": [
    {
     "data": {
      "text/html": [
       "<div>\n",
       "<style scoped>\n",
       "    .dataframe tbody tr th:only-of-type {\n",
       "        vertical-align: middle;\n",
       "    }\n",
       "\n",
       "    .dataframe tbody tr th {\n",
       "        vertical-align: top;\n",
       "    }\n",
       "\n",
       "    .dataframe thead th {\n",
       "        text-align: right;\n",
       "    }\n",
       "</style>\n",
       "<table border=\"1\" class=\"dataframe\">\n",
       "  <thead>\n",
       "    <tr style=\"text-align: right;\">\n",
       "      <th></th>\n",
       "      <th>year</th>\n",
       "      <th>pop</th>\n",
       "      <th>life_expect</th>\n",
       "      <th>fertility</th>\n",
       "    </tr>\n",
       "  </thead>\n",
       "  <tbody>\n",
       "    <tr>\n",
       "      <th>count</th>\n",
       "      <td>693.000000</td>\n",
       "      <td>6.930000e+02</td>\n",
       "      <td>693.000000</td>\n",
       "      <td>693.000000</td>\n",
       "    </tr>\n",
       "    <tr>\n",
       "      <th>mean</th>\n",
       "      <td>1980.000000</td>\n",
       "      <td>5.623431e+07</td>\n",
       "      <td>66.146406</td>\n",
       "      <td>3.605755</td>\n",
       "    </tr>\n",
       "    <tr>\n",
       "      <th>std</th>\n",
       "      <td>15.822809</td>\n",
       "      <td>1.553014e+08</td>\n",
       "      <td>10.714033</td>\n",
       "      <td>1.921234</td>\n",
       "    </tr>\n",
       "    <tr>\n",
       "      <th>min</th>\n",
       "      <td>1955.000000</td>\n",
       "      <td>5.386500e+04</td>\n",
       "      <td>23.599000</td>\n",
       "      <td>0.940000</td>\n",
       "    </tr>\n",
       "    <tr>\n",
       "      <th>25%</th>\n",
       "      <td>1965.000000</td>\n",
       "      <td>4.563732e+06</td>\n",
       "      <td>59.957000</td>\n",
       "      <td>2.015000</td>\n",
       "    </tr>\n",
       "    <tr>\n",
       "      <th>50%</th>\n",
       "      <td>1980.000000</td>\n",
       "      <td>1.229200e+07</td>\n",
       "      <td>69.498000</td>\n",
       "      <td>2.930000</td>\n",
       "    </tr>\n",
       "    <tr>\n",
       "      <th>75%</th>\n",
       "      <td>1995.000000</td>\n",
       "      <td>4.443444e+07</td>\n",
       "      <td>73.840000</td>\n",
       "      <td>5.000500</td>\n",
       "    </tr>\n",
       "    <tr>\n",
       "      <th>max</th>\n",
       "      <td>2005.000000</td>\n",
       "      <td>1.303182e+09</td>\n",
       "      <td>82.603000</td>\n",
       "      <td>8.500000</td>\n",
       "    </tr>\n",
       "  </tbody>\n",
       "</table>\n",
       "</div>"
      ],
      "text/plain": [
       "              year           pop  life_expect   fertility\n",
       "count   693.000000  6.930000e+02   693.000000  693.000000\n",
       "mean   1980.000000  5.623431e+07    66.146406    3.605755\n",
       "std      15.822809  1.553014e+08    10.714033    1.921234\n",
       "min    1955.000000  5.386500e+04    23.599000    0.940000\n",
       "25%    1965.000000  4.563732e+06    59.957000    2.015000\n",
       "50%    1980.000000  1.229200e+07    69.498000    2.930000\n",
       "75%    1995.000000  4.443444e+07    73.840000    5.000500\n",
       "max    2005.000000  1.303182e+09    82.603000    8.500000"
      ]
     },
     "execution_count": 6,
     "metadata": {},
     "output_type": "execute_result"
    }
   ],
   "source": [
    "# Solution\n",
    "df.describe()"
   ]
  },
  {
   "cell_type": "markdown",
   "metadata": {
    "editable": true,
    "slideshow": {
     "slide_type": ""
    },
    "tags": []
   },
   "source": [
    "- That's all we need for now\n",
    "\n",
    "\n",
    "- We'll learn _much_ more about Pandas later in the semester"
   ]
  },
  {
   "cell_type": "markdown",
   "metadata": {
    "editable": true,
    "slideshow": {
     "slide_type": ""
    },
    "tags": []
   },
   "source": [
    "<hr style=\"border-top: 2px solid gray; margin-top: 1px; margin-bottom: 1px\"></hr>"
   ]
  },
  {
   "cell_type": "markdown",
   "metadata": {
    "editable": true,
    "slideshow": {
     "slide_type": ""
    },
    "tags": []
   },
   "source": [
    "## Method chaining"
   ]
  },
  {
   "cell_type": "markdown",
   "metadata": {
    "editable": true,
    "slideshow": {
     "slide_type": ""
    },
    "tags": []
   },
   "source": [
    "- Consider the following string in the variable `sentence`:"
   ]
  },
  {
   "cell_type": "code",
   "execution_count": 7,
   "metadata": {
    "editable": true,
    "slideshow": {
     "slide_type": ""
    },
    "tags": []
   },
   "outputs": [],
   "source": [
    "sentence = '  the QUICK foX jumPED over the laZY CAt.    '"
   ]
  },
  {
   "cell_type": "markdown",
   "metadata": {
    "editable": true,
    "slideshow": {
     "slide_type": ""
    },
    "tags": []
   },
   "source": [
    "- We can format this string programmatically using Python's string methods to:\n",
    "    - Remove whitespace at the beginning and end of the string with `.strip()`\n",
    "    - Capitalize the sentence correctly with `.capitalize()`\n",
    "    - Replace any instance of 'cat' with 'dog' with `.replace()`"
   ]
  },
  {
   "cell_type": "markdown",
   "metadata": {
    "editable": true,
    "slideshow": {
     "slide_type": ""
    },
    "tags": []
   },
   "source": [
    "- We want to end up with:\n",
    "\n",
    "    ```python\n",
    "    'The quick fox jumped over the lazy dog.'\n",
    "    ```"
   ]
  },
  {
   "cell_type": "markdown",
   "metadata": {
    "editable": true,
    "slideshow": {
     "slide_type": ""
    },
    "tags": []
   },
   "source": [
    "- Such code might look like this:"
   ]
  },
  {
   "cell_type": "code",
   "execution_count": null,
   "metadata": {
    "editable": true,
    "slideshow": {
     "slide_type": ""
    },
    "tags": []
   },
   "outputs": [],
   "source": [
    "# Remove whitespace at the beginning and end of the string\n",
    "sentence2 = \n",
    "\n",
    "# Capitalize the sentence correctly\n",
    "sentence3 = \n",
    "\n",
    "# Replace any instance of 'cat' with 'dog'\n",
    "sentence4 = \n",
    "\n",
    "# Print the final sentence\n",
    "print(sentence4)"
   ]
  },
  {
   "cell_type": "code",
   "execution_count": 8,
   "metadata": {
    "editable": true,
    "slideshow": {
     "slide_type": ""
    },
    "tags": [
     "solution"
    ]
   },
   "outputs": [
    {
     "name": "stdout",
     "output_type": "stream",
     "text": [
      "The quick fox jumped over the lazy dog.\n"
     ]
    }
   ],
   "source": [
    "# Solution\n",
    "# Remove whitespace at the beginning and end of the string\n",
    "sentence2 = sentence.strip()\n",
    "\n",
    "# Capitalize the sentence correctly\n",
    "sentence3 = sentence2.capitalize()\n",
    "\n",
    "# Replace any instance of 'cat' with 'dog'\n",
    "sentence4 = sentence3.replace('cat', 'dog')\n",
    "\n",
    "# Print the final sentence\n",
    "print(sentence4)"
   ]
  },
  {
   "cell_type": "markdown",
   "metadata": {
    "editable": true,
    "slideshow": {
     "slide_type": ""
    },
    "tags": [
     "solution"
    ]
   },
   "source": [
    "- We can inspect the results of the intermediate steps:"
   ]
  },
  {
   "cell_type": "code",
   "execution_count": 9,
   "metadata": {
    "editable": true,
    "slideshow": {
     "slide_type": ""
    },
    "tags": []
   },
   "outputs": [
    {
     "name": "stdout",
     "output_type": "stream",
     "text": [
      "the QUICK foX jumPED over the laZY CAt.\n",
      "The quick fox jumped over the lazy cat.\n"
     ]
    }
   ],
   "source": [
    "print(sentence2)\n",
    "print(sentence3)"
   ]
  },
  {
   "cell_type": "markdown",
   "metadata": {
    "editable": true,
    "slideshow": {
     "slide_type": ""
    },
    "tags": []
   },
   "source": [
    "- This works, but is a bit cumbersome: we have to come up with variable names for the intermediate steps, which we don't really care about\n",
    "\n",
    "\n",
    "- There is a cleaner way!\n",
    "\n",
    "\n",
    "- Note that each of the string methods (`.strip()`, `.capitalize()`, `.replace()`) we used above *results in another string*\n",
    "\n",
    "\n",
    "- So instead of storing these results in intermediate variables, we can directly *chain* the method calls one after another, like this:"
   ]
  },
  {
   "cell_type": "code",
   "execution_count": null,
   "metadata": {
    "editable": true,
    "slideshow": {
     "slide_type": ""
    },
    "tags": []
   },
   "outputs": [],
   "source": []
  },
  {
   "cell_type": "code",
   "execution_count": 10,
   "metadata": {
    "editable": true,
    "slideshow": {
     "slide_type": ""
    },
    "tags": [
     "solution"
    ]
   },
   "outputs": [
    {
     "data": {
      "text/plain": [
       "'The quick fox jumped over the lazy dog.'"
      ]
     },
     "execution_count": 10,
     "metadata": {},
     "output_type": "execute_result"
    }
   ],
   "source": [
    "# Solution\n",
    "sentence.strip().capitalize().replace('cat', 'dog')"
   ]
  },
  {
   "cell_type": "markdown",
   "metadata": {
    "editable": true,
    "slideshow": {
     "slide_type": ""
    },
    "tags": []
   },
   "source": [
    "- In the code above, we can easily read the sequence of actions we took from left to right\n",
    "\n",
    "\n",
    "- **Method chaining** often improves the readability of code and reduces the amount of code needed\n",
    "\n",
    "\n",
    "- We will use method chaining a lot in this course: the libraries for data wrangling and visualization that we will use are well-suited for method chaining"
   ]
  },
  {
   "cell_type": "markdown",
   "metadata": {
    "editable": true,
    "slideshow": {
     "slide_type": ""
    },
    "tags": []
   },
   "source": [
    "<hr style=\"border-top: 2px solid gray; margin-top: 1px; margin-bottom: 1px\"></hr>"
   ]
  },
  {
   "cell_type": "markdown",
   "metadata": {
    "editable": true,
    "slideshow": {
     "slide_type": ""
    },
    "tags": []
   },
   "source": [
    "## Formatting Python code &mdash; line continuation"
   ]
  },
  {
   "cell_type": "markdown",
   "metadata": {
    "editable": true,
    "slideshow": {
     "slide_type": ""
    },
    "tags": []
   },
   "source": [
    "- Consider the following encrypted message:\n",
    "\n",
    "    ```\n",
    "    giuifg cei iprc tpnn du cei qprcni\n",
    "    ```\n",
    "\n",
    "\n",
    "- The message above was encrypted by the following *simple substitution cipher*:\n",
    "\n",
    "\n",
    "|plain    |a|b|c|d|e|f|g|h|i|j|k|l|m|n|o|p|q|r|s|t|u|v|w|x|y|z|\n",
    "|---------|-|-|-|-|-|-|-|-|-|-|-|-|-|-|-|-|-|-|-|-|-|-|-|-|-|-|\n",
    "|encrypted|p|h|q|g|i|u|m|e|a|y|l|n|o|f|d|x|j|k|r|c|v|s|t|z|w|b|\n",
    "\n",
    "\n",
    "- So the first character of the encrypted message, `g`, translates to `d` in plain text\n",
    "\n",
    "\n",
    "- Here is a function that decrypts any message encrypted with this cipher, using `.replace()` repeatedly in a long method chain:"
   ]
  },
  {
   "cell_type": "code",
   "execution_count": 11,
   "metadata": {
    "editable": true,
    "slideshow": {
     "slide_type": ""
    },
    "tags": []
   },
   "outputs": [],
   "source": [
    "def decrypt(message):\n",
    "    return message.replace('p', 'A').replace('h', 'B').replace('q', 'C').replace('g', 'D').replace('i', 'E').replace('u', 'F').replace('m', 'G').replace('e', 'H').replace('a', 'I').replace('y', 'J').replace('l', 'K').replace('n', 'L').replace('o', 'M').replace('f', 'N').replace('d', 'O').replace('x', 'P').replace('j', 'Q').replace('k', 'R').replace('r', 'S').replace('c', 'T').replace('v', 'U').replace('s', 'V').replace('t', 'W').replace('z', 'X').replace('w', 'Y').replace('b', 'Z')"
   ]
  },
  {
   "cell_type": "markdown",
   "metadata": {
    "editable": true,
    "slideshow": {
     "slide_type": ""
    },
    "tags": []
   },
   "source": [
    "- First, let's see if it works..."
   ]
  },
  {
   "cell_type": "code",
   "execution_count": 12,
   "metadata": {
    "editable": true,
    "slideshow": {
     "slide_type": ""
    },
    "tags": []
   },
   "outputs": [
    {
     "data": {
      "text/plain": [
       "'DEFEND THE EAST WALL OF THE CASTLE'"
      ]
     },
     "execution_count": 12,
     "metadata": {},
     "output_type": "execute_result"
    }
   ],
   "source": [
    "message = 'giuifg cei iprc tpnn du cei qprcni'\n",
    "decrypt(message)"
   ]
  },
  {
   "cell_type": "markdown",
   "metadata": {
    "editable": true,
    "slideshow": {
     "slide_type": ""
    },
    "tags": []
   },
   "source": [
    "- Now, unless you have a very, very wide screen, you probably could not read the entire definition of the function `decrypt()` above without scrolling to the right\n",
    "\n",
    "\n",
    "- Long lines make code harder to read, especially on smaller screens or when you have multiple files open side-by-side\n",
    "\n",
    "\n",
    "- In fact, it is common to limit lines in Python code to 79 characters\n",
    "    - Actually, this is common for many programming languages\n",
    "    - Why 79? [Probably historical reasons](https://en.wikipedia.org/wiki/Characters_per_line)"
   ]
  },
  {
   "cell_type": "markdown",
   "metadata": {
    "editable": true,
    "slideshow": {
     "slide_type": ""
    },
    "tags": []
   },
   "source": [
    "- So, how do we do this? Python provides several ways to run statements over several lines\n",
    "\n",
    "\n",
    "- The recommended way is **implied line continuation**: Python will assume line continuation if code is contained within parentheses `()`, brackets `[]`, or braces `{}`\n",
    "\n",
    "\n",
    "- One way to rewrite the function `decrypt` above would be:"
   ]
  },
  {
   "cell_type": "code",
   "execution_count": 13,
   "metadata": {
    "editable": true,
    "slideshow": {
     "slide_type": ""
    },
    "tags": []
   },
   "outputs": [
    {
     "data": {
      "text/plain": [
       "'DEFEND THE EAST WALL OF THE CASTLE'"
      ]
     },
     "execution_count": 13,
     "metadata": {},
     "output_type": "execute_result"
    }
   ],
   "source": [
    "def decrypt(message):\n",
    "    return message.replace(\n",
    "        'p', 'A'\n",
    "    ).replace(\n",
    "        'h', 'B'\n",
    "    ).replace(\n",
    "        'q', 'C'\n",
    "    ).replace(\n",
    "        'g', 'D'\n",
    "    ).replace(\n",
    "        'i', 'E'\n",
    "    ).replace(\n",
    "        'u', 'F'\n",
    "    ).replace(\n",
    "        'm', 'G'\n",
    "    ).replace(\n",
    "        'e', 'H'\n",
    "    ).replace(\n",
    "        'a', 'I'\n",
    "    ).replace(\n",
    "        'y', 'J'\n",
    "    ).replace(\n",
    "        'l', 'K'\n",
    "    ).replace(\n",
    "        'n', 'L'\n",
    "    ).replace(\n",
    "        'o', 'M'\n",
    "    ).replace(\n",
    "        'f', 'N'\n",
    "    ).replace(\n",
    "        'd', 'O'\n",
    "    ).replace(\n",
    "        'x', 'P'\n",
    "    ).replace(\n",
    "        'j', 'Q'\n",
    "    ).replace(\n",
    "        'k', 'R'\n",
    "    ).replace(\n",
    "        'r', 'S'\n",
    "    ).replace(\n",
    "        'c', 'T'\n",
    "    ).replace(\n",
    "        'v', 'U'\n",
    "    ).replace(\n",
    "        's', 'V'\n",
    "    ).replace(\n",
    "        't', 'W'\n",
    "    ).replace(\n",
    "        'z', 'X'\n",
    "    ).replace(\n",
    "        'w', 'Y'\n",
    "    ).replace(\n",
    "        'b', 'Z'\n",
    "    )\n",
    "\n",
    "decrypt(message)"
   ]
  },
  {
   "cell_type": "markdown",
   "metadata": {
    "editable": true,
    "slideshow": {
     "slide_type": ""
    },
    "tags": []
   },
   "source": [
    "- Putting each subsitution on a separate line makes it easy to see what the cipher looks like at a glance - almost like a table\n",
    "\n",
    "\n",
    "- Another similar, perhaps prettier, way would be to first wrap the entire method chain with parentheses, like this:"
   ]
  },
  {
   "cell_type": "code",
   "execution_count": 14,
   "metadata": {},
   "outputs": [
    {
     "data": {
      "text/plain": [
       "'DEFEND THE EAST WALL OF THE CASTLE'"
      ]
     },
     "execution_count": 14,
     "metadata": {},
     "output_type": "execute_result"
    }
   ],
   "source": [
    "def decrypt(message):\n",
    "    return (\n",
    "      message.replace('p', 'A')\n",
    "             .replace('h', 'B')\n",
    "             .replace('q', 'C')\n",
    "             .replace('g', 'D')\n",
    "             .replace('i', 'E')\n",
    "             .replace('u', 'F')\n",
    "             .replace('m', 'G')\n",
    "             .replace('e', 'H')\n",
    "             .replace('a', 'I')\n",
    "             .replace('y', 'J')\n",
    "             .replace('l', 'K')\n",
    "             .replace('n', 'L')\n",
    "             .replace('o', 'M')\n",
    "             .replace('f', 'N')\n",
    "             .replace('d', 'O')\n",
    "             .replace('x', 'P')\n",
    "             .replace('j', 'Q')\n",
    "             .replace('k', 'R')\n",
    "             .replace('r', 'S')\n",
    "             .replace('c', 'T')\n",
    "             .replace('v', 'U')\n",
    "             .replace('s', 'V')\n",
    "             .replace('t', 'W')\n",
    "             .replace('z', 'X')\n",
    "             .replace('w', 'Y')\n",
    "             .replace('b', 'Z')\n",
    "    )\n",
    "\n",
    "decrypt(message)"
   ]
  },
  {
   "cell_type": "markdown",
   "metadata": {},
   "source": [
    "- Note: wrapping the entire chain in parentheses in the example above is important &mdash; otherwise, Python would not look to continue the line from one `.replace()` call to the next"
   ]
  },
  {
   "cell_type": "markdown",
   "metadata": {},
   "source": [
    "- Finally, note that in the examples above, we *indented* the line continuations\n",
    "\n",
    "\n",
    "- This improves the readability of your code\n",
    "    - It helps the reader distinguish between two lines of code and a single line of code that spans two lines"
   ]
  },
  {
   "cell_type": "markdown",
   "metadata": {},
   "source": [
    "<hr style=\"border-top: 2px solid gray; margin-top: 1px; margin-bottom: 1px\"></hr>"
   ]
  },
  {
   "cell_type": "markdown",
   "metadata": {},
   "source": [
    "## What's next?"
   ]
  },
  {
   "cell_type": "markdown",
   "metadata": {},
   "source": [
    "- Introduction to data visualization with [Altair](https://altair-viz.github.io/)"
   ]
  },
  {
   "cell_type": "markdown",
   "metadata": {},
   "source": [
    "<hr style=\"border-top: 2px solid gray; margin-top: 1px; margin-bottom: 1px\"></hr>"
   ]
  },
  {
   "cell_type": "markdown",
   "metadata": {},
   "source": [
    "## Problems"
   ]
  },
  {
   "cell_type": "markdown",
   "metadata": {},
   "source": [
    "### Problem 1"
   ]
  },
  {
   "cell_type": "markdown",
   "metadata": {},
   "source": [
    "In the same folder as this notebook, there is a file `data/cars.csv`, which contains data about cars in the 1970s and 1980s.\n",
    "\n",
    "1. Read this CSV file into a DataFrame.\n",
    "1. Display the first 5 rows of this dataset.\n",
    "1. How many observations and variables does this dataset have?\n",
    "1. What variables are contained in this dataset?\n",
    "1. What is the minimum and maximum weight among the cars in this dataset?"
   ]
  },
  {
   "cell_type": "code",
   "execution_count": null,
   "metadata": {},
   "outputs": [],
   "source": []
  },
  {
   "cell_type": "code",
   "execution_count": 15,
   "metadata": {
    "tags": [
     "solution"
    ]
   },
   "outputs": [],
   "source": [
    "# Solution\n",
    "cars_df = pd.read_csv('data/cars.csv')"
   ]
  },
  {
   "cell_type": "code",
   "execution_count": 16,
   "metadata": {
    "tags": [
     "solution"
    ]
   },
   "outputs": [
    {
     "data": {
      "text/html": [
       "<div>\n",
       "<style scoped>\n",
       "    .dataframe tbody tr th:only-of-type {\n",
       "        vertical-align: middle;\n",
       "    }\n",
       "\n",
       "    .dataframe tbody tr th {\n",
       "        vertical-align: top;\n",
       "    }\n",
       "\n",
       "    .dataframe thead th {\n",
       "        text-align: right;\n",
       "    }\n",
       "</style>\n",
       "<table border=\"1\" class=\"dataframe\">\n",
       "  <thead>\n",
       "    <tr style=\"text-align: right;\">\n",
       "      <th></th>\n",
       "      <th>Name</th>\n",
       "      <th>Miles_per_Gallon</th>\n",
       "      <th>Cylinders</th>\n",
       "      <th>Displacement</th>\n",
       "      <th>Horsepower</th>\n",
       "      <th>Weight_in_lbs</th>\n",
       "      <th>Acceleration</th>\n",
       "      <th>Year</th>\n",
       "      <th>Origin</th>\n",
       "    </tr>\n",
       "  </thead>\n",
       "  <tbody>\n",
       "    <tr>\n",
       "      <th>0</th>\n",
       "      <td>chevrolet chevelle malibu</td>\n",
       "      <td>18.0</td>\n",
       "      <td>8</td>\n",
       "      <td>307.0</td>\n",
       "      <td>130.0</td>\n",
       "      <td>3504</td>\n",
       "      <td>12.0</td>\n",
       "      <td>1970</td>\n",
       "      <td>USA</td>\n",
       "    </tr>\n",
       "    <tr>\n",
       "      <th>1</th>\n",
       "      <td>buick skylark 320</td>\n",
       "      <td>15.0</td>\n",
       "      <td>8</td>\n",
       "      <td>350.0</td>\n",
       "      <td>165.0</td>\n",
       "      <td>3693</td>\n",
       "      <td>11.5</td>\n",
       "      <td>1970</td>\n",
       "      <td>USA</td>\n",
       "    </tr>\n",
       "    <tr>\n",
       "      <th>2</th>\n",
       "      <td>plymouth satellite</td>\n",
       "      <td>18.0</td>\n",
       "      <td>8</td>\n",
       "      <td>318.0</td>\n",
       "      <td>150.0</td>\n",
       "      <td>3436</td>\n",
       "      <td>11.0</td>\n",
       "      <td>1970</td>\n",
       "      <td>USA</td>\n",
       "    </tr>\n",
       "    <tr>\n",
       "      <th>3</th>\n",
       "      <td>amc rebel sst</td>\n",
       "      <td>16.0</td>\n",
       "      <td>8</td>\n",
       "      <td>304.0</td>\n",
       "      <td>150.0</td>\n",
       "      <td>3433</td>\n",
       "      <td>12.0</td>\n",
       "      <td>1970</td>\n",
       "      <td>USA</td>\n",
       "    </tr>\n",
       "    <tr>\n",
       "      <th>4</th>\n",
       "      <td>ford torino</td>\n",
       "      <td>17.0</td>\n",
       "      <td>8</td>\n",
       "      <td>302.0</td>\n",
       "      <td>140.0</td>\n",
       "      <td>3449</td>\n",
       "      <td>10.5</td>\n",
       "      <td>1970</td>\n",
       "      <td>USA</td>\n",
       "    </tr>\n",
       "  </tbody>\n",
       "</table>\n",
       "</div>"
      ],
      "text/plain": [
       "                        Name  Miles_per_Gallon  Cylinders  Displacement   \n",
       "0  chevrolet chevelle malibu              18.0          8         307.0  \\\n",
       "1          buick skylark 320              15.0          8         350.0   \n",
       "2         plymouth satellite              18.0          8         318.0   \n",
       "3              amc rebel sst              16.0          8         304.0   \n",
       "4                ford torino              17.0          8         302.0   \n",
       "\n",
       "   Horsepower  Weight_in_lbs  Acceleration  Year Origin  \n",
       "0       130.0           3504          12.0  1970    USA  \n",
       "1       165.0           3693          11.5  1970    USA  \n",
       "2       150.0           3436          11.0  1970    USA  \n",
       "3       150.0           3433          12.0  1970    USA  \n",
       "4       140.0           3449          10.5  1970    USA  "
      ]
     },
     "execution_count": 16,
     "metadata": {},
     "output_type": "execute_result"
    }
   ],
   "source": [
    "# Solution\n",
    "cars_df.head()"
   ]
  },
  {
   "cell_type": "code",
   "execution_count": 17,
   "metadata": {
    "tags": [
     "solution"
    ]
   },
   "outputs": [
    {
     "data": {
      "text/plain": [
       "(406, 9)"
      ]
     },
     "execution_count": 17,
     "metadata": {},
     "output_type": "execute_result"
    }
   ],
   "source": [
    "# Solution\n",
    "cars_df.shape"
   ]
  },
  {
   "cell_type": "code",
   "execution_count": 18,
   "metadata": {
    "tags": [
     "solution"
    ]
   },
   "outputs": [
    {
     "name": "stdout",
     "output_type": "stream",
     "text": [
      "<class 'pandas.core.frame.DataFrame'>\n",
      "RangeIndex: 406 entries, 0 to 405\n",
      "Data columns (total 9 columns):\n",
      " #   Column            Non-Null Count  Dtype  \n",
      "---  ------            --------------  -----  \n",
      " 0   Name              406 non-null    object \n",
      " 1   Miles_per_Gallon  398 non-null    float64\n",
      " 2   Cylinders         406 non-null    int64  \n",
      " 3   Displacement      406 non-null    float64\n",
      " 4   Horsepower        400 non-null    float64\n",
      " 5   Weight_in_lbs     406 non-null    int64  \n",
      " 6   Acceleration      406 non-null    float64\n",
      " 7   Year              406 non-null    int64  \n",
      " 8   Origin            406 non-null    object \n",
      "dtypes: float64(4), int64(3), object(2)\n",
      "memory usage: 28.7+ KB\n"
     ]
    }
   ],
   "source": [
    "# Solution\n",
    "cars_df.info()"
   ]
  },
  {
   "cell_type": "code",
   "execution_count": 19,
   "metadata": {
    "tags": [
     "solution"
    ]
   },
   "outputs": [
    {
     "data": {
      "text/html": [
       "<div>\n",
       "<style scoped>\n",
       "    .dataframe tbody tr th:only-of-type {\n",
       "        vertical-align: middle;\n",
       "    }\n",
       "\n",
       "    .dataframe tbody tr th {\n",
       "        vertical-align: top;\n",
       "    }\n",
       "\n",
       "    .dataframe thead th {\n",
       "        text-align: right;\n",
       "    }\n",
       "</style>\n",
       "<table border=\"1\" class=\"dataframe\">\n",
       "  <thead>\n",
       "    <tr style=\"text-align: right;\">\n",
       "      <th></th>\n",
       "      <th>Miles_per_Gallon</th>\n",
       "      <th>Cylinders</th>\n",
       "      <th>Displacement</th>\n",
       "      <th>Horsepower</th>\n",
       "      <th>Weight_in_lbs</th>\n",
       "      <th>Acceleration</th>\n",
       "      <th>Year</th>\n",
       "    </tr>\n",
       "  </thead>\n",
       "  <tbody>\n",
       "    <tr>\n",
       "      <th>count</th>\n",
       "      <td>398.000000</td>\n",
       "      <td>406.000000</td>\n",
       "      <td>406.000000</td>\n",
       "      <td>400.000000</td>\n",
       "      <td>406.000000</td>\n",
       "      <td>406.000000</td>\n",
       "      <td>406.000000</td>\n",
       "    </tr>\n",
       "    <tr>\n",
       "      <th>mean</th>\n",
       "      <td>23.514573</td>\n",
       "      <td>5.475369</td>\n",
       "      <td>194.779557</td>\n",
       "      <td>105.082500</td>\n",
       "      <td>2979.413793</td>\n",
       "      <td>15.519704</td>\n",
       "      <td>1975.995074</td>\n",
       "    </tr>\n",
       "    <tr>\n",
       "      <th>std</th>\n",
       "      <td>7.815984</td>\n",
       "      <td>1.712160</td>\n",
       "      <td>104.922458</td>\n",
       "      <td>38.768779</td>\n",
       "      <td>847.004328</td>\n",
       "      <td>2.803359</td>\n",
       "      <td>3.856689</td>\n",
       "    </tr>\n",
       "    <tr>\n",
       "      <th>min</th>\n",
       "      <td>9.000000</td>\n",
       "      <td>3.000000</td>\n",
       "      <td>68.000000</td>\n",
       "      <td>46.000000</td>\n",
       "      <td>1613.000000</td>\n",
       "      <td>8.000000</td>\n",
       "      <td>1970.000000</td>\n",
       "    </tr>\n",
       "    <tr>\n",
       "      <th>25%</th>\n",
       "      <td>17.500000</td>\n",
       "      <td>4.000000</td>\n",
       "      <td>105.000000</td>\n",
       "      <td>75.750000</td>\n",
       "      <td>2226.500000</td>\n",
       "      <td>13.700000</td>\n",
       "      <td>1973.000000</td>\n",
       "    </tr>\n",
       "    <tr>\n",
       "      <th>50%</th>\n",
       "      <td>23.000000</td>\n",
       "      <td>4.000000</td>\n",
       "      <td>151.000000</td>\n",
       "      <td>95.000000</td>\n",
       "      <td>2822.500000</td>\n",
       "      <td>15.500000</td>\n",
       "      <td>1976.000000</td>\n",
       "    </tr>\n",
       "    <tr>\n",
       "      <th>75%</th>\n",
       "      <td>29.000000</td>\n",
       "      <td>8.000000</td>\n",
       "      <td>302.000000</td>\n",
       "      <td>130.000000</td>\n",
       "      <td>3618.250000</td>\n",
       "      <td>17.175000</td>\n",
       "      <td>1979.000000</td>\n",
       "    </tr>\n",
       "    <tr>\n",
       "      <th>max</th>\n",
       "      <td>46.600000</td>\n",
       "      <td>8.000000</td>\n",
       "      <td>455.000000</td>\n",
       "      <td>230.000000</td>\n",
       "      <td>5140.000000</td>\n",
       "      <td>24.800000</td>\n",
       "      <td>1982.000000</td>\n",
       "    </tr>\n",
       "  </tbody>\n",
       "</table>\n",
       "</div>"
      ],
      "text/plain": [
       "       Miles_per_Gallon   Cylinders  Displacement  Horsepower  Weight_in_lbs   \n",
       "count        398.000000  406.000000    406.000000  400.000000     406.000000  \\\n",
       "mean          23.514573    5.475369    194.779557  105.082500    2979.413793   \n",
       "std            7.815984    1.712160    104.922458   38.768779     847.004328   \n",
       "min            9.000000    3.000000     68.000000   46.000000    1613.000000   \n",
       "25%           17.500000    4.000000    105.000000   75.750000    2226.500000   \n",
       "50%           23.000000    4.000000    151.000000   95.000000    2822.500000   \n",
       "75%           29.000000    8.000000    302.000000  130.000000    3618.250000   \n",
       "max           46.600000    8.000000    455.000000  230.000000    5140.000000   \n",
       "\n",
       "       Acceleration         Year  \n",
       "count    406.000000   406.000000  \n",
       "mean      15.519704  1975.995074  \n",
       "std        2.803359     3.856689  \n",
       "min        8.000000  1970.000000  \n",
       "25%       13.700000  1973.000000  \n",
       "50%       15.500000  1976.000000  \n",
       "75%       17.175000  1979.000000  \n",
       "max       24.800000  1982.000000  "
      ]
     },
     "execution_count": 19,
     "metadata": {},
     "output_type": "execute_result"
    }
   ],
   "source": [
    "# Solution\n",
    "cars_df.describe()"
   ]
  },
  {
   "cell_type": "markdown",
   "metadata": {},
   "source": [
    "_Write your answer here. Double-click to edit._"
   ]
  },
  {
   "cell_type": "markdown",
   "metadata": {
    "tags": [
     "solution"
    ]
   },
   "source": [
    "_Solution._ This dataset has 406 observations. It has 9 variables: `Name`, `Miles_Per_Gallon`, `Cylinders`, `Displacement`, `Horsepower`, `Weight_in_lbs`, `Acceleration`, `Year`, and `Origin`. The minimum weight among the cars in this data is 1613 lbs, the maximum is 5140 lbs."
   ]
  },
  {
   "cell_type": "markdown",
   "metadata": {},
   "source": [
    "### Problem 2"
   ]
  },
  {
   "cell_type": "markdown",
   "metadata": {},
   "source": [
    "Use the string methods `.replace()`, `.strip()`, and `.upper()` in a chain to change the string in the variable `banner` defined in the code cell below to\n",
    "\n",
    "```\n",
    "'GO NAVY BEAT ARMY!'\n",
    "```"
   ]
  },
  {
   "cell_type": "code",
   "execution_count": 20,
   "metadata": {},
   "outputs": [],
   "source": [
    "banner = 'go navy beat tulane!  '"
   ]
  },
  {
   "cell_type": "code",
   "execution_count": 21,
   "metadata": {
    "tags": [
     "solution"
    ]
   },
   "outputs": [
    {
     "data": {
      "text/plain": [
       "'GO NAVY BEAT ARMY!'"
      ]
     },
     "execution_count": 21,
     "metadata": {},
     "output_type": "execute_result"
    }
   ],
   "source": [
    "# Solution\n",
    "banner = 'go navy beat tulane!  '\n",
    "\n",
    "banner.strip().replace('tulane', 'army').upper()"
   ]
  },
  {
   "cell_type": "markdown",
   "metadata": {},
   "source": [
    "### Problem 3"
   ]
  },
  {
   "cell_type": "markdown",
   "metadata": {},
   "source": [
    "In the simple substitution cipher example above, we might have written the function `decrypt` to make the subsitutions with lowercase letters, like this:\n",
    "\n",
    "```python\n",
    "def decrypt(message):\n",
    "    return (\n",
    "      message.replace('p', 'a')\n",
    "             .replace('h', 'b')\n",
    "             .replace('q', 'c')\n",
    "             .replace('g', 'd')\n",
    "             # and so on\n",
    "    )\n",
    "```\n",
    "\n",
    "Would this have worked? Why or why not?"
   ]
  },
  {
   "cell_type": "markdown",
   "metadata": {},
   "source": [
    "_Write your answer here. Double-click to edit._"
   ]
  },
  {
   "cell_type": "markdown",
   "metadata": {
    "tags": [
     "solution"
    ]
   },
   "source": [
    "_Solution._ This would not have worked, because the replacements are not done simultaneously. For example, the first call of `replace` replaces all `p`s with `a`s. Then, later on in the chain, these new `a`s would be replaced with `i`s, which is not what we want."
   ]
  },
  {
   "cell_type": "markdown",
   "metadata": {},
   "source": [
    "### Problem 4"
   ]
  },
  {
   "cell_type": "markdown",
   "metadata": {},
   "source": [
    "The code cell below contains a chain of methods called on a Pandas DataFrame. Don't worry too much about how the code works for now &mdash; you'll learn about this later in the semester.\n",
    "\n",
    "Reformat the code using the line continuation techniques above so that it fits on your screen and is easy to read."
   ]
  },
  {
   "cell_type": "code",
   "execution_count": 22,
   "metadata": {},
   "outputs": [
    {
     "data": {
      "text/html": [
       "<div>\n",
       "<style scoped>\n",
       "    .dataframe tbody tr th:only-of-type {\n",
       "        vertical-align: middle;\n",
       "    }\n",
       "\n",
       "    .dataframe tbody tr th {\n",
       "        vertical-align: top;\n",
       "    }\n",
       "\n",
       "    .dataframe thead th {\n",
       "        text-align: right;\n",
       "    }\n",
       "</style>\n",
       "<table border=\"1\" class=\"dataframe\">\n",
       "  <thead>\n",
       "    <tr style=\"text-align: right;\">\n",
       "      <th></th>\n",
       "      <th>mean_pop</th>\n",
       "      <th>min_pop</th>\n",
       "      <th>max_pop</th>\n",
       "      <th>mean_life_expect</th>\n",
       "      <th>max_fertility</th>\n",
       "    </tr>\n",
       "    <tr>\n",
       "      <th>cluster</th>\n",
       "      <th></th>\n",
       "      <th></th>\n",
       "      <th></th>\n",
       "      <th></th>\n",
       "      <th></th>\n",
       "    </tr>\n",
       "  </thead>\n",
       "  <tbody>\n",
       "    <tr>\n",
       "      <th>Americas</th>\n",
       "      <td>2.331788e+07</td>\n",
       "      <td>59039</td>\n",
       "      <td>205052000</td>\n",
       "      <td>63.323286</td>\n",
       "      <td>6.500</td>\n",
       "    </tr>\n",
       "    <tr>\n",
       "      <th>East Asia &amp; Pacific</th>\n",
       "      <td>1.269898e+08</td>\n",
       "      <td>2828050</td>\n",
       "      <td>818315000</td>\n",
       "      <td>65.135764</td>\n",
       "      <td>6.000</td>\n",
       "    </tr>\n",
       "    <tr>\n",
       "      <th>Europe &amp; Central Asia</th>\n",
       "      <td>2.183174e+07</td>\n",
       "      <td>204104</td>\n",
       "      <td>77783164</td>\n",
       "      <td>70.969105</td>\n",
       "      <td>5.300</td>\n",
       "    </tr>\n",
       "    <tr>\n",
       "      <th>Middle East &amp; North Africa</th>\n",
       "      <td>1.388604e+07</td>\n",
       "      <td>2383029</td>\n",
       "      <td>33574026</td>\n",
       "      <td>59.043000</td>\n",
       "      <td>7.298</td>\n",
       "    </tr>\n",
       "    <tr>\n",
       "      <th>South Asia</th>\n",
       "      <td>1.716348e+08</td>\n",
       "      <td>12430623</td>\n",
       "      <td>541000000</td>\n",
       "      <td>45.980000</td>\n",
       "      <td>7.700</td>\n",
       "    </tr>\n",
       "    <tr>\n",
       "      <th>Sub-Saharan Africa</th>\n",
       "      <td>2.219595e+07</td>\n",
       "      <td>3769171</td>\n",
       "      <td>51027516</td>\n",
       "      <td>48.669000</td>\n",
       "      <td>8.290</td>\n",
       "    </tr>\n",
       "  </tbody>\n",
       "</table>\n",
       "</div>"
      ],
      "text/plain": [
       "                                mean_pop   min_pop    max_pop   \n",
       "cluster                                                         \n",
       "Americas                    2.331788e+07     59039  205052000  \\\n",
       "East Asia & Pacific         1.269898e+08   2828050  818315000   \n",
       "Europe & Central Asia       2.183174e+07    204104   77783164   \n",
       "Middle East & North Africa  1.388604e+07   2383029   33574026   \n",
       "South Asia                  1.716348e+08  12430623  541000000   \n",
       "Sub-Saharan Africa          2.219595e+07   3769171   51027516   \n",
       "\n",
       "                            mean_life_expect  max_fertility  \n",
       "cluster                                                      \n",
       "Americas                           63.323286          6.500  \n",
       "East Asia & Pacific                65.135764          6.000  \n",
       "Europe & Central Asia              70.969105          5.300  \n",
       "Middle East & North Africa         59.043000          7.298  \n",
       "South Asia                         45.980000          7.700  \n",
       "Sub-Saharan Africa                 48.669000          8.290  "
      ]
     },
     "execution_count": 22,
     "metadata": {},
     "output_type": "execute_result"
    }
   ],
   "source": [
    "df.query('year == 1970').groupby('cluster').agg(mean_pop=('pop', 'mean'), min_pop=('pop', 'min'), max_pop=('pop', 'max'), mean_life_expect=('life_expect', 'mean'), max_fertility=('fertility', 'max'))"
   ]
  },
  {
   "cell_type": "code",
   "execution_count": 23,
   "metadata": {
    "tags": [
     "solution"
    ]
   },
   "outputs": [
    {
     "data": {
      "text/html": [
       "<div>\n",
       "<style scoped>\n",
       "    .dataframe tbody tr th:only-of-type {\n",
       "        vertical-align: middle;\n",
       "    }\n",
       "\n",
       "    .dataframe tbody tr th {\n",
       "        vertical-align: top;\n",
       "    }\n",
       "\n",
       "    .dataframe thead th {\n",
       "        text-align: right;\n",
       "    }\n",
       "</style>\n",
       "<table border=\"1\" class=\"dataframe\">\n",
       "  <thead>\n",
       "    <tr style=\"text-align: right;\">\n",
       "      <th></th>\n",
       "      <th>mean_pop</th>\n",
       "      <th>min_pop</th>\n",
       "      <th>max_pop</th>\n",
       "      <th>mean_life_expect</th>\n",
       "      <th>max_fertility</th>\n",
       "    </tr>\n",
       "    <tr>\n",
       "      <th>cluster</th>\n",
       "      <th></th>\n",
       "      <th></th>\n",
       "      <th></th>\n",
       "      <th></th>\n",
       "      <th></th>\n",
       "    </tr>\n",
       "  </thead>\n",
       "  <tbody>\n",
       "    <tr>\n",
       "      <th>Americas</th>\n",
       "      <td>2.331788e+07</td>\n",
       "      <td>59039</td>\n",
       "      <td>205052000</td>\n",
       "      <td>63.323286</td>\n",
       "      <td>6.500</td>\n",
       "    </tr>\n",
       "    <tr>\n",
       "      <th>East Asia &amp; Pacific</th>\n",
       "      <td>1.269898e+08</td>\n",
       "      <td>2828050</td>\n",
       "      <td>818315000</td>\n",
       "      <td>65.135764</td>\n",
       "      <td>6.000</td>\n",
       "    </tr>\n",
       "    <tr>\n",
       "      <th>Europe &amp; Central Asia</th>\n",
       "      <td>2.183174e+07</td>\n",
       "      <td>204104</td>\n",
       "      <td>77783164</td>\n",
       "      <td>70.969105</td>\n",
       "      <td>5.300</td>\n",
       "    </tr>\n",
       "    <tr>\n",
       "      <th>Middle East &amp; North Africa</th>\n",
       "      <td>1.388604e+07</td>\n",
       "      <td>2383029</td>\n",
       "      <td>33574026</td>\n",
       "      <td>59.043000</td>\n",
       "      <td>7.298</td>\n",
       "    </tr>\n",
       "    <tr>\n",
       "      <th>South Asia</th>\n",
       "      <td>1.716348e+08</td>\n",
       "      <td>12430623</td>\n",
       "      <td>541000000</td>\n",
       "      <td>45.980000</td>\n",
       "      <td>7.700</td>\n",
       "    </tr>\n",
       "    <tr>\n",
       "      <th>Sub-Saharan Africa</th>\n",
       "      <td>2.219595e+07</td>\n",
       "      <td>3769171</td>\n",
       "      <td>51027516</td>\n",
       "      <td>48.669000</td>\n",
       "      <td>8.290</td>\n",
       "    </tr>\n",
       "  </tbody>\n",
       "</table>\n",
       "</div>"
      ],
      "text/plain": [
       "                                mean_pop   min_pop    max_pop   \n",
       "cluster                                                         \n",
       "Americas                    2.331788e+07     59039  205052000  \\\n",
       "East Asia & Pacific         1.269898e+08   2828050  818315000   \n",
       "Europe & Central Asia       2.183174e+07    204104   77783164   \n",
       "Middle East & North Africa  1.388604e+07   2383029   33574026   \n",
       "South Asia                  1.716348e+08  12430623  541000000   \n",
       "Sub-Saharan Africa          2.219595e+07   3769171   51027516   \n",
       "\n",
       "                            mean_life_expect  max_fertility  \n",
       "cluster                                                      \n",
       "Americas                           63.323286          6.500  \n",
       "East Asia & Pacific                65.135764          6.000  \n",
       "Europe & Central Asia              70.969105          5.300  \n",
       "Middle East & North Africa         59.043000          7.298  \n",
       "South Asia                         45.980000          7.700  \n",
       "Sub-Saharan Africa                 48.669000          8.290  "
      ]
     },
     "execution_count": 23,
     "metadata": {},
     "output_type": "execute_result"
    }
   ],
   "source": [
    "# Solution - one possibility\n",
    "(\n",
    "    df\n",
    "    .query('year == 1970')\n",
    "    .groupby('cluster')\n",
    "    .agg(\n",
    "       mean_pop=('pop', 'mean'), \n",
    "       min_pop=('pop', 'min'), \n",
    "       max_pop=('pop', 'max'), \n",
    "       mean_life_expect=('life_expect', 'mean'), \n",
    "       max_fertility=('fertility', 'max')\n",
    "    )\n",
    ")"
   ]
  },
  {
   "cell_type": "markdown",
   "metadata": {},
   "source": [
    "<hr style=\"border-top: 2px solid gray; margin-top: 1px; margin-bottom: 1px\"></hr>"
   ]
  },
  {
   "cell_type": "markdown",
   "metadata": {},
   "source": [
    "## Notes and sources"
   ]
  },
  {
   "cell_type": "markdown",
   "metadata": {
    "editable": true,
    "slideshow": {
     "slide_type": ""
    },
    "tags": []
   },
   "source": [
    "- The simple substitution cipher example was taken from [Practical Cryptography](http://practicalcryptography.com/ciphers/simple-substitution-cipher/)\n",
    "\n",
    "\n",
    "- [PEP 8](https://www.python.org/dev/peps/pep-0008/) is a document that provides guidelines and best practices on how to write Python code\n",
    "    - For example, it has suggestions on how to do line continuation\n",
    "    - Real Python has a nice [tutorial on PEP 8](https://realpython.com/python-pep8)"
   ]
  }
 ],
 "metadata": {
  "kernelspec": {
   "display_name": "Python 3 (ipykernel)",
   "language": "python",
   "name": "python3"
  },
  "language_info": {
   "codemirror_mode": {
    "name": "ipython",
    "version": 3
   },
   "file_extension": ".py",
   "mimetype": "text/x-python",
   "name": "python",
   "nbconvert_exporter": "python",
   "pygments_lexer": "ipython3",
   "version": "3.11.3"
  }
 },
 "nbformat": 4,
 "nbformat_minor": 4
}

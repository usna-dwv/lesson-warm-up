{
 "cells": [
  {
   "cell_type": "markdown",
   "metadata": {
    "editable": true,
    "slideshow": {
     "slide_type": ""
    },
    "tags": []
   },
   "source": [
    "**SA433 &#x25aa; Data Wrangling and Visualization &#x25aa; Fall 2024**"
   ]
  },
  {
   "cell_type": "markdown",
   "metadata": {
    "editable": true,
    "slideshow": {
     "slide_type": ""
    },
    "tags": []
   },
   "source": [
    "# Lesson 2. Warm Up"
   ]
  },
  {
   "cell_type": "markdown",
   "metadata": {},
   "source": [
    "## In this lesson..."
   ]
  },
  {
   "cell_type": "markdown",
   "metadata": {},
   "source": [
    "- A very brief introduction to Pandas\n",
    "\n",
    "\n",
    "- Method chaining\n",
    "\n",
    "\n",
    "- Formatting Python code: line continuation"
   ]
  },
  {
   "cell_type": "markdown",
   "metadata": {},
   "source": [
    "<hr style=\"border-top: 2px solid gray; margin-top: 1px; margin-bottom: 1px\"></hr>"
   ]
  },
  {
   "cell_type": "markdown",
   "metadata": {},
   "source": [
    "## A very brief introduction to Pandas 🐼"
   ]
  },
  {
   "cell_type": "markdown",
   "metadata": {
    "editable": true,
    "slideshow": {
     "slide_type": ""
    },
    "tags": []
   },
   "source": [
    "- In the same folder as this notebook, there is a file `data/gapminder.csv` containing health and population data for a number of countries between 1955 and 2005\n",
    "    - `data/gapminder.csv` = `gapminder.csv` in the folder `data`\n",
    "    - This data was collected by [Gapminder](https://www.gapminder.org/)"
   ]
  },
  {
   "cell_type": "markdown",
   "metadata": {
    "editable": true,
    "slideshow": {
     "slide_type": ""
    },
    "tags": []
   },
   "source": [
    "- CSV stands for **comma-separated values**\n",
    "\n",
    "\n",
    "- CSV files are a common way to store tabular data\n",
    "\n",
    "\n",
    "- Let's see what the Gapminder data looks like, using JupyterLab's file viewer..."
   ]
  },
  {
   "cell_type": "markdown",
   "metadata": {
    "editable": true,
    "slideshow": {
     "slide_type": ""
    },
    "tags": []
   },
   "source": [
    "- How can we use this data in Python?\n",
    "\n",
    "\n",
    "- [__Pandas__](https://pandas.pydata.org/) is a Python package for data analysis and manipulation \n",
    "    - [Here is the Pandas documentation](https://pandas.pydata.org/docs/)"
   ]
  },
  {
   "cell_type": "markdown",
   "metadata": {
    "editable": true,
    "slideshow": {
     "slide_type": ""
    },
    "tags": []
   },
   "source": [
    "- We will spend a significant portion of this course getting fluent in Pandas\n",
    "\n",
    "\n",
    "- For now, we just need a few basics so that we can start visualizing data in Python"
   ]
  },
  {
   "cell_type": "markdown",
   "metadata": {
    "editable": true,
    "slideshow": {
     "slide_type": ""
    },
    "tags": []
   },
   "source": [
    "- First, let's import Pandas as `pd`:"
   ]
  },
  {
   "cell_type": "code",
   "execution_count": null,
   "metadata": {
    "editable": true,
    "slideshow": {
     "slide_type": ""
    },
    "tags": []
   },
   "outputs": [],
   "source": [
    "import pandas as pd"
   ]
  },
  {
   "cell_type": "markdown",
   "metadata": {
    "editable": true,
    "slideshow": {
     "slide_type": ""
    },
    "tags": []
   },
   "source": [
    "## The DataFrame object"
   ]
  },
  {
   "cell_type": "markdown",
   "metadata": {
    "editable": true,
    "slideshow": {
     "slide_type": ""
    },
    "tags": []
   },
   "source": [
    "- A Pandas __DataFrame__ is a two-dimensional table, with rows and columns\n",
    "\n",
    "\n",
    "- Sometimes we refer to the columns as _variables_ and the rows as *observations*, since tabular data is commonly set up this way\n",
    "\n",
    "\n",
    "- We can use the Pandas `read_csv()` function to read the Gapminder data `data/gapminder.csv` into a DataFrame called `df`, like this:"
   ]
  },
  {
   "cell_type": "code",
   "execution_count": null,
   "metadata": {
    "editable": true,
    "slideshow": {
     "slide_type": ""
    },
    "tags": []
   },
   "outputs": [],
   "source": [
    "df = pd.read_csv('data/gapminder.csv')"
   ]
  },
  {
   "cell_type": "markdown",
   "metadata": {
    "editable": true,
    "slideshow": {
     "slide_type": ""
    },
    "tags": []
   },
   "source": [
    "- By default, `read_csv()` assumes the first row of the CSV file contains the names of each column"
   ]
  },
  {
   "cell_type": "markdown",
   "metadata": {
    "editable": true,
    "slideshow": {
     "slide_type": ""
    },
    "tags": []
   },
   "source": [
    "- It's a good habit to take a quick look at the DataFrame that `read_csv()` creates, just in case something went wrong\n",
    "\n",
    "\n",
    "- To view the first 5 rows of a DataFrame, we can use the `.head()` method:"
   ]
  },
  {
   "cell_type": "code",
   "execution_count": null,
   "metadata": {
    "editable": true,
    "slideshow": {
     "slide_type": ""
    },
    "tags": []
   },
   "outputs": [],
   "source": []
  },
  {
   "cell_type": "markdown",
   "metadata": {
    "colab_type": "text",
    "editable": true,
    "id": "ZpJ2OTZbY3Kf",
    "slideshow": {
     "slide_type": ""
    },
    "tags": []
   },
   "source": [
    "- Each row of this DataFrame contains the following data for each `country` and `year`:\n",
    "    - region of the world (`cluster`)\n",
    "    - total population (`pop`)\n",
    "    - average life expectancy in years (`life_expect`)\n",
    "    - number of children per woman (`fertility`)"
   ]
  },
  {
   "cell_type": "markdown",
   "metadata": {
    "colab_type": "text",
    "editable": true,
    "id": "ZpJ2OTZbY3Kf",
    "slideshow": {
     "slide_type": ""
    },
    "tags": []
   },
   "source": [
    "- By default, Pandas assigns a **label** to each row/observation: these labels are called the **index**\n",
    "    - Above, you can see the labels all the way on the left\n",
    "    - Note: the index does *not* count as a column/variable of the DataFrame\n",
    "    - We'll come back to this later in the semester"
   ]
  },
  {
   "cell_type": "markdown",
   "metadata": {
    "editable": true,
    "slideshow": {
     "slide_type": ""
    },
    "tags": []
   },
   "source": [
    "- The `.shape` attribute of a DataFrame contains the number of rows and columns in the DataFrame:"
   ]
  },
  {
   "cell_type": "code",
   "execution_count": null,
   "metadata": {
    "editable": true,
    "slideshow": {
     "slide_type": ""
    },
    "tags": []
   },
   "outputs": [],
   "source": []
  },
  {
   "cell_type": "markdown",
   "metadata": {
    "editable": true,
    "slideshow": {
     "slide_type": ""
    },
    "tags": []
   },
   "source": [
    "- The `.info()` method of a DataFrame prints some useful information about a DataFrame, including the type of values in each column:"
   ]
  },
  {
   "cell_type": "code",
   "execution_count": null,
   "metadata": {
    "editable": true,
    "slideshow": {
     "slide_type": ""
    },
    "tags": []
   },
   "outputs": [],
   "source": []
  },
  {
   "cell_type": "markdown",
   "metadata": {
    "editable": true,
    "slideshow": {
     "slide_type": ""
    },
    "tags": []
   },
   "source": [
    "* The `.describe()` method of a DataFrame outputs summary statistics for the columns with numeric data:"
   ]
  },
  {
   "cell_type": "code",
   "execution_count": null,
   "metadata": {
    "editable": true,
    "slideshow": {
     "slide_type": ""
    },
    "tags": []
   },
   "outputs": [],
   "source": []
  },
  {
   "cell_type": "markdown",
   "metadata": {
    "editable": true,
    "slideshow": {
     "slide_type": ""
    },
    "tags": []
   },
   "source": [
    "- That's all we need for now\n",
    "\n",
    "\n",
    "- We'll learn _much_ more about Pandas later in the semester"
   ]
  },
  {
   "cell_type": "markdown",
   "metadata": {
    "editable": true,
    "slideshow": {
     "slide_type": ""
    },
    "tags": []
   },
   "source": [
    "<hr style=\"border-top: 2px solid gray; margin-top: 1px; margin-bottom: 1px\"></hr>"
   ]
  },
  {
   "cell_type": "markdown",
   "metadata": {
    "editable": true,
    "slideshow": {
     "slide_type": ""
    },
    "tags": []
   },
   "source": [
    "## Method chaining"
   ]
  },
  {
   "cell_type": "markdown",
   "metadata": {
    "editable": true,
    "slideshow": {
     "slide_type": ""
    },
    "tags": []
   },
   "source": [
    "- Consider the following string in the variable `sentence`:"
   ]
  },
  {
   "cell_type": "code",
   "execution_count": null,
   "metadata": {
    "editable": true,
    "slideshow": {
     "slide_type": ""
    },
    "tags": []
   },
   "outputs": [],
   "source": [
    "sentence = '  the QUICK foX jumPED over the laZY CAt.    '"
   ]
  },
  {
   "cell_type": "markdown",
   "metadata": {
    "editable": true,
    "slideshow": {
     "slide_type": ""
    },
    "tags": []
   },
   "source": [
    "- We can format this string programmatically using Python's string methods to:\n",
    "    - Remove whitespace at the beginning and end of the string with `.strip()`\n",
    "    - Capitalize the sentence correctly with `.capitalize()`\n",
    "    - Replace any instance of 'cat' with 'dog' with `.replace()`"
   ]
  },
  {
   "cell_type": "markdown",
   "metadata": {
    "editable": true,
    "slideshow": {
     "slide_type": ""
    },
    "tags": []
   },
   "source": [
    "- We want to end up with:\n",
    "\n",
    "    ```python\n",
    "    'The quick fox jumped over the lazy dog.'\n",
    "    ```"
   ]
  },
  {
   "cell_type": "markdown",
   "metadata": {
    "editable": true,
    "slideshow": {
     "slide_type": ""
    },
    "tags": []
   },
   "source": [
    "- Such code might look like this:"
   ]
  },
  {
   "cell_type": "code",
   "execution_count": null,
   "metadata": {
    "editable": true,
    "slideshow": {
     "slide_type": ""
    },
    "tags": []
   },
   "outputs": [],
   "source": [
    "# Remove whitespace at the beginning and end of the string\n",
    "sentence2 = \n",
    "\n",
    "# Capitalize the sentence correctly\n",
    "sentence3 = \n",
    "\n",
    "# Replace any instance of 'cat' with 'dog'\n",
    "sentence4 = \n",
    "\n",
    "# Print the final sentence\n",
    "print(sentence4)"
   ]
  },
  {
   "cell_type": "code",
   "execution_count": null,
   "metadata": {
    "editable": true,
    "slideshow": {
     "slide_type": ""
    },
    "tags": []
   },
   "outputs": [],
   "source": [
    "print(sentence2)\n",
    "print(sentence3)"
   ]
  },
  {
   "cell_type": "markdown",
   "metadata": {
    "editable": true,
    "slideshow": {
     "slide_type": ""
    },
    "tags": []
   },
   "source": [
    "- This works, but is a bit cumbersome: we have to come up with variable names for the intermediate steps, which we don't really care about\n",
    "\n",
    "\n",
    "- There is a cleaner way!\n",
    "\n",
    "\n",
    "- Note that each of the string methods (`.strip()`, `.capitalize()`, `.replace()`) we used above *results in another string*\n",
    "\n",
    "\n",
    "- So instead of storing these results in intermediate variables, we can directly *chain* the method calls one after another, like this:"
   ]
  },
  {
   "cell_type": "code",
   "execution_count": null,
   "metadata": {
    "editable": true,
    "slideshow": {
     "slide_type": ""
    },
    "tags": []
   },
   "outputs": [],
   "source": []
  },
  {
   "cell_type": "markdown",
   "metadata": {
    "editable": true,
    "slideshow": {
     "slide_type": ""
    },
    "tags": []
   },
   "source": [
    "- In the code above, we can easily read the sequence of actions we took from left to right\n",
    "\n",
    "\n",
    "- **Method chaining** often improves the readability of code and reduces the amount of code needed\n",
    "\n",
    "\n",
    "- We will use method chaining a lot in this course: the libraries for data wrangling and visualization that we will use are well-suited for method chaining"
   ]
  },
  {
   "cell_type": "markdown",
   "metadata": {
    "editable": true,
    "slideshow": {
     "slide_type": ""
    },
    "tags": []
   },
   "source": [
    "<hr style=\"border-top: 2px solid gray; margin-top: 1px; margin-bottom: 1px\"></hr>"
   ]
  },
  {
   "cell_type": "markdown",
   "metadata": {
    "editable": true,
    "slideshow": {
     "slide_type": ""
    },
    "tags": []
   },
   "source": [
    "## Formatting Python code &mdash; line continuation"
   ]
  },
  {
   "cell_type": "markdown",
   "metadata": {
    "editable": true,
    "slideshow": {
     "slide_type": ""
    },
    "tags": []
   },
   "source": [
    "- Consider the following encrypted message:\n",
    "\n",
    "    ```\n",
    "    giuifg cei iprc tpnn du cei qprcni\n",
    "    ```\n",
    "\n",
    "\n",
    "- The message above was encrypted by the following *simple substitution cipher*:\n",
    "\n",
    "\n",
    "|plain    |a|b|c|d|e|f|g|h|i|j|k|l|m|n|o|p|q|r|s|t|u|v|w|x|y|z|\n",
    "|---------|-|-|-|-|-|-|-|-|-|-|-|-|-|-|-|-|-|-|-|-|-|-|-|-|-|-|\n",
    "|encrypted|p|h|q|g|i|u|m|e|a|y|l|n|o|f|d|x|j|k|r|c|v|s|t|z|w|b|\n",
    "\n",
    "\n",
    "- So the first character of the encrypted message, `g`, translates to `d` in plain text\n",
    "\n",
    "\n",
    "- Here is a function that decrypts any message encrypted with this cipher, using `.replace()` repeatedly in a long method chain:"
   ]
  },
  {
   "cell_type": "code",
   "execution_count": null,
   "metadata": {
    "editable": true,
    "slideshow": {
     "slide_type": ""
    },
    "tags": []
   },
   "outputs": [],
   "source": [
    "def decrypt(message):\n",
    "    return message.replace('p', 'A').replace('h', 'B').replace('q', 'C').replace('g', 'D').replace('i', 'E').replace('u', 'F').replace('m', 'G').replace('e', 'H').replace('a', 'I').replace('y', 'J').replace('l', 'K').replace('n', 'L').replace('o', 'M').replace('f', 'N').replace('d', 'O').replace('x', 'P').replace('j', 'Q').replace('k', 'R').replace('r', 'S').replace('c', 'T').replace('v', 'U').replace('s', 'V').replace('t', 'W').replace('z', 'X').replace('w', 'Y').replace('b', 'Z')"
   ]
  },
  {
   "cell_type": "markdown",
   "metadata": {
    "editable": true,
    "slideshow": {
     "slide_type": ""
    },
    "tags": []
   },
   "source": [
    "- First, let's see if it works..."
   ]
  },
  {
   "cell_type": "code",
   "execution_count": null,
   "metadata": {
    "editable": true,
    "slideshow": {
     "slide_type": ""
    },
    "tags": []
   },
   "outputs": [],
   "source": [
    "message = 'giuifg cei iprc tpnn du cei qprcni'\n",
    "decrypt(message)"
   ]
  },
  {
   "cell_type": "markdown",
   "metadata": {
    "editable": true,
    "slideshow": {
     "slide_type": ""
    },
    "tags": []
   },
   "source": [
    "- Now, unless you have a very, very wide screen, you probably could not read the entire definition of the function `decrypt()` above without scrolling to the right\n",
    "\n",
    "\n",
    "- Long lines make code harder to read, especially on smaller screens or when you have multiple files open side-by-side\n",
    "\n",
    "\n",
    "- In fact, it is common to limit lines in Python code to 79 characters\n",
    "    - Actually, this is common for many programming languages\n",
    "    - Why 79? [Probably historical reasons](https://en.wikipedia.org/wiki/Characters_per_line)"
   ]
  },
  {
   "cell_type": "markdown",
   "metadata": {
    "editable": true,
    "slideshow": {
     "slide_type": ""
    },
    "tags": []
   },
   "source": [
    "- So, how do we do this? Python provides several ways to run statements over several lines\n",
    "\n",
    "\n",
    "- The recommended way is **implied line continuation**: Python will assume line continuation if code is contained within parentheses `()`, brackets `[]`, or braces `{}`\n",
    "\n",
    "\n",
    "- One way to rewrite the function `decrypt` above would be:"
   ]
  },
  {
   "cell_type": "code",
   "execution_count": null,
   "metadata": {
    "editable": true,
    "slideshow": {
     "slide_type": ""
    },
    "tags": []
   },
   "outputs": [],
   "source": [
    "def decrypt(message):\n",
    "    return message.replace(\n",
    "        'p', 'A'\n",
    "    ).replace(\n",
    "        'h', 'B'\n",
    "    ).replace(\n",
    "        'q', 'C'\n",
    "    ).replace(\n",
    "        'g', 'D'\n",
    "    ).replace(\n",
    "        'i', 'E'\n",
    "    ).replace(\n",
    "        'u', 'F'\n",
    "    ).replace(\n",
    "        'm', 'G'\n",
    "    ).replace(\n",
    "        'e', 'H'\n",
    "    ).replace(\n",
    "        'a', 'I'\n",
    "    ).replace(\n",
    "        'y', 'J'\n",
    "    ).replace(\n",
    "        'l', 'K'\n",
    "    ).replace(\n",
    "        'n', 'L'\n",
    "    ).replace(\n",
    "        'o', 'M'\n",
    "    ).replace(\n",
    "        'f', 'N'\n",
    "    ).replace(\n",
    "        'd', 'O'\n",
    "    ).replace(\n",
    "        'x', 'P'\n",
    "    ).replace(\n",
    "        'j', 'Q'\n",
    "    ).replace(\n",
    "        'k', 'R'\n",
    "    ).replace(\n",
    "        'r', 'S'\n",
    "    ).replace(\n",
    "        'c', 'T'\n",
    "    ).replace(\n",
    "        'v', 'U'\n",
    "    ).replace(\n",
    "        's', 'V'\n",
    "    ).replace(\n",
    "        't', 'W'\n",
    "    ).replace(\n",
    "        'z', 'X'\n",
    "    ).replace(\n",
    "        'w', 'Y'\n",
    "    ).replace(\n",
    "        'b', 'Z'\n",
    "    )\n",
    "\n",
    "decrypt(message)"
   ]
  },
  {
   "cell_type": "markdown",
   "metadata": {
    "editable": true,
    "slideshow": {
     "slide_type": ""
    },
    "tags": []
   },
   "source": [
    "- Putting each subsitution on a separate line makes it easy to see what the cipher looks like at a glance - almost like a table\n",
    "\n",
    "\n",
    "- Another similar, perhaps prettier, way would be to first wrap the entire method chain with parentheses, like this:"
   ]
  },
  {
   "cell_type": "code",
   "execution_count": null,
   "metadata": {},
   "outputs": [],
   "source": [
    "def decrypt(message):\n",
    "    return (\n",
    "      message.replace('p', 'A')\n",
    "             .replace('h', 'B')\n",
    "             .replace('q', 'C')\n",
    "             .replace('g', 'D')\n",
    "             .replace('i', 'E')\n",
    "             .replace('u', 'F')\n",
    "             .replace('m', 'G')\n",
    "             .replace('e', 'H')\n",
    "             .replace('a', 'I')\n",
    "             .replace('y', 'J')\n",
    "             .replace('l', 'K')\n",
    "             .replace('n', 'L')\n",
    "             .replace('o', 'M')\n",
    "             .replace('f', 'N')\n",
    "             .replace('d', 'O')\n",
    "             .replace('x', 'P')\n",
    "             .replace('j', 'Q')\n",
    "             .replace('k', 'R')\n",
    "             .replace('r', 'S')\n",
    "             .replace('c', 'T')\n",
    "             .replace('v', 'U')\n",
    "             .replace('s', 'V')\n",
    "             .replace('t', 'W')\n",
    "             .replace('z', 'X')\n",
    "             .replace('w', 'Y')\n",
    "             .replace('b', 'Z')\n",
    "    )\n",
    "\n",
    "decrypt(message)"
   ]
  },
  {
   "cell_type": "markdown",
   "metadata": {},
   "source": [
    "- Note: wrapping the entire chain in parentheses in the example above is important &mdash; otherwise, Python would not look to continue the line from one `.replace()` call to the next"
   ]
  },
  {
   "cell_type": "markdown",
   "metadata": {},
   "source": [
    "- Finally, note that in the examples above, we *indented* the line continuations\n",
    "\n",
    "\n",
    "- This improves the readability of your code\n",
    "    - It helps the reader distinguish between two lines of code and a single line of code that spans two lines"
   ]
  },
  {
   "cell_type": "markdown",
   "metadata": {},
   "source": [
    "<hr style=\"border-top: 2px solid gray; margin-top: 1px; margin-bottom: 1px\"></hr>"
   ]
  },
  {
   "cell_type": "markdown",
   "metadata": {},
   "source": [
    "## What's next?"
   ]
  },
  {
   "cell_type": "markdown",
   "metadata": {},
   "source": [
    "- Introduction to data visualization with [Altair](https://altair-viz.github.io/)"
   ]
  },
  {
   "cell_type": "markdown",
   "metadata": {},
   "source": [
    "<hr style=\"border-top: 2px solid gray; margin-top: 1px; margin-bottom: 1px\"></hr>"
   ]
  },
  {
   "cell_type": "markdown",
   "metadata": {},
   "source": [
    "## Problems"
   ]
  },
  {
   "cell_type": "markdown",
   "metadata": {},
   "source": [
    "### Problem 1"
   ]
  },
  {
   "cell_type": "markdown",
   "metadata": {},
   "source": [
    "In the same folder as this notebook, there is a file `data/cars.csv`, which contains data about cars in the 1970s and 1980s.\n",
    "\n",
    "1. Read this CSV file into a DataFrame.\n",
    "1. Display the first 5 rows of this dataset.\n",
    "1. How many observations and variables does this dataset have?\n",
    "1. What variables are contained in this dataset?\n",
    "1. What is the minimum and maximum weight among the cars in this dataset?"
   ]
  },
  {
   "cell_type": "code",
   "execution_count": null,
   "metadata": {},
   "outputs": [],
   "source": []
  },
  {
   "cell_type": "markdown",
   "metadata": {},
   "source": [
    "_Write your answer here. Double-click to edit._"
   ]
  },
  {
   "cell_type": "markdown",
   "metadata": {},
   "source": [
    "### Problem 2"
   ]
  },
  {
   "cell_type": "markdown",
   "metadata": {},
   "source": [
    "Use the string methods `.replace()`, `.strip()`, and `.upper()` in a chain to change the string in the variable `banner` defined in the code cell below to\n",
    "\n",
    "```\n",
    "'GO NAVY BEAT ARMY!'\n",
    "```"
   ]
  },
  {
   "cell_type": "code",
   "execution_count": null,
   "metadata": {},
   "outputs": [],
   "source": [
    "banner = 'go navy beat tulane!  '"
   ]
  },
  {
   "cell_type": "markdown",
   "metadata": {},
   "source": [
    "### Problem 3"
   ]
  },
  {
   "cell_type": "markdown",
   "metadata": {},
   "source": [
    "In the simple substitution cipher example above, we might have written the function `decrypt` to make the subsitutions with lowercase letters, like this:\n",
    "\n",
    "```python\n",
    "def decrypt(message):\n",
    "    return (\n",
    "      message.replace('p', 'a')\n",
    "             .replace('h', 'b')\n",
    "             .replace('q', 'c')\n",
    "             .replace('g', 'd')\n",
    "             # and so on\n",
    "    )\n",
    "```\n",
    "\n",
    "Would this have worked? Why or why not?"
   ]
  },
  {
   "cell_type": "markdown",
   "metadata": {},
   "source": [
    "_Write your answer here. Double-click to edit._"
   ]
  },
  {
   "cell_type": "markdown",
   "metadata": {},
   "source": [
    "### Problem 4"
   ]
  },
  {
   "cell_type": "markdown",
   "metadata": {},
   "source": [
    "The code cell below contains a chain of methods called on a Pandas DataFrame. Don't worry too much about how the code works for now &mdash; you'll learn about this later in the semester.\n",
    "\n",
    "Reformat the code using the line continuation techniques above so that it fits on your screen and is easy to read."
   ]
  },
  {
   "cell_type": "code",
   "execution_count": null,
   "metadata": {},
   "outputs": [],
   "source": [
    "df.query('year == 1970').groupby('cluster').agg(mean_pop=('pop', 'mean'), min_pop=('pop', 'min'), max_pop=('pop', 'max'), mean_life_expect=('life_expect', 'mean'), max_fertility=('fertility', 'max'))"
   ]
  },
  {
   "cell_type": "markdown",
   "metadata": {},
   "source": [
    "<hr style=\"border-top: 2px solid gray; margin-top: 1px; margin-bottom: 1px\"></hr>"
   ]
  },
  {
   "cell_type": "markdown",
   "metadata": {},
   "source": [
    "## Notes and sources"
   ]
  },
  {
   "cell_type": "markdown",
   "metadata": {
    "editable": true,
    "slideshow": {
     "slide_type": ""
    },
    "tags": []
   },
   "source": [
    "- The simple substitution cipher example was taken from [Practical Cryptography](http://practicalcryptography.com/ciphers/simple-substitution-cipher/)\n",
    "\n",
    "\n",
    "- [PEP 8](https://www.python.org/dev/peps/pep-0008/) is a document that provides guidelines and best practices on how to write Python code\n",
    "    - For example, it has suggestions on how to do line continuation\n",
    "    - Real Python has a nice [tutorial on PEP 8](https://realpython.com/python-pep8)"
   ]
  }
 ],
 "metadata": {
  "kernelspec": {
   "display_name": "Python 3 (ipykernel)",
   "language": "python",
   "name": "python3"
  },
  "language_info": {
   "codemirror_mode": {
    "name": "ipython",
    "version": 3
   },
   "file_extension": ".py",
   "mimetype": "text/x-python",
   "name": "python",
   "nbconvert_exporter": "python",
   "pygments_lexer": "ipython3",
   "version": "3.11.3"
  }
 },
 "nbformat": 4,
 "nbformat_minor": 4
}
